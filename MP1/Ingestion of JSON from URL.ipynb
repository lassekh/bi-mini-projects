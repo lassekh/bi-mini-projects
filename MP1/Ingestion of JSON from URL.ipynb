{
 "cells": [
  {
   "cell_type": "markdown",
   "id": "52f0e25e-10c3-4773-9fd6-7ca6b9fb2e6a",
   "metadata": {},
   "source": [
    "# Fecth JSON data from URL"
   ]
  },
  {
   "cell_type": "code",
   "execution_count": 5,
   "id": "321a8715-25b7-486f-b970-cb33916202cc",
   "metadata": {},
   "outputs": [],
   "source": [
    "import json\n",
    "import requests"
   ]
  },
  {
   "cell_type": "code",
   "execution_count": 29,
   "id": "9dbf0ecd-8b1b-459a-b6c2-a346b933ce57",
   "metadata": {},
   "outputs": [],
   "source": [
    "# Link til JSON-data\n",
    "url = \"https://gist.githubusercontent.com/tanveery/4ac939d2ad27954da4c8db13e10ef7bd/raw/0f3a58c5735553515aa7c826cb37f58da387be2c/sample-stocks-data.json\"\n",
    "\n",
    "# Filnavn for at gemme JSON lokalt\n",
    "output_file = \"json-data.json\""
   ]
  },
  {
   "cell_type": "markdown",
   "id": "418e5958-dbaf-4c17-9ec3-dee3d2016401",
   "metadata": {},
   "source": [
    "## Program to Fetch JSON data to a file locally"
   ]
  },
  {
   "cell_type": "code",
   "execution_count": 95,
   "id": "b9fdeb19-5ccd-449c-9375-03a988c24323",
   "metadata": {},
   "outputs": [],
   "source": [
    "def fetch_and_save_json(url, output_file):\n",
    "    try:\n",
    "        # Indhent data fra linket\n",
    "        response = requests.get(url)\n",
    "        \n",
    "        # Kontroller for eventuelle HTTP-fejl\n",
    "        response.raise_for_status()  # Vil kaste en fejl, hvis statuskoden ikke er 200\n",
    "        \n",
    "        # Parse JSON-indholdet\n",
    "        data = response.json()\n",
    "        \n",
    "        # Gem data som en lokal JSON-fil\n",
    "        with open(output_file, 'w', encoding='utf-8') as f:\n",
    "            json.dump(data, f, ensure_ascii=False, indent=4)\n",
    "            \n",
    "        print(f\"Data blev gemt i '{output_file}'.\")\n",
    "\n",
    "        return data\n",
    "\n",
    "    except requests.exceptions.HTTPError as http_err:\n",
    "        print(f\"HTTP-fejl opstod: {http_err}\")\n",
    "    except Exception as err:\n",
    "        print(f\"En anden fejl opstod: {err}\")"
   ]
  },
  {
   "cell_type": "code",
   "execution_count": 225,
   "id": "285874b8-918c-4b77-aecc-0436e4b5aed9",
   "metadata": {},
   "outputs": [
    {
     "name": "stdout",
     "output_type": "stream",
     "text": [
      "Data blev gemt i 'json-data.json'.\n"
     ]
    }
   ],
   "source": [
    "# Kalder funktionen for at hente og gemme JSON-data\n",
    "data = fetch_and_save_json(url, output_file)"
   ]
  },
  {
   "cell_type": "code",
   "execution_count": 285,
   "id": "69a276d5-22f7-46b5-9760-79ff419867f4",
   "metadata": {},
   "outputs": [
    {
     "name": "stdout",
     "output_type": "stream",
     "text": [
      "<class 'list'>\n"
     ]
    }
   ],
   "source": [
    "print(type(data))"
   ]
  },
  {
   "cell_type": "markdown",
   "id": "47c92697-5b8a-4f5a-9f47-2a91d7c34f11",
   "metadata": {},
   "source": [
    "## Program to retrieve data from file to DataFrame with pandas"
   ]
  },
  {
   "cell_type": "code",
   "execution_count": 259,
   "id": "b0f6edc5-67e8-45a7-9b35-f230b6b02a79",
   "metadata": {},
   "outputs": [],
   "source": [
    "import pandas as pd\n",
    "import os"
   ]
  },
  {
   "cell_type": "code",
   "execution_count": 273,
   "id": "a07dceaa-e419-488b-a1aa-270585e056ac",
   "metadata": {},
   "outputs": [],
   "source": [
    "# en funktion som tager json datafil so argument og konterverer det via pandas til dataframe.\n",
    "# logikken i funktionen er omkaplet af en \"try\" for at fange eventuelle fejl, printe fejl meddelelse og returnere \"none\".\n",
    "def json_to_dataframe(data):\n",
    "    try:\n",
    "        # Konverter JSON-data til en DataFrame\n",
    "\n",
    "        # Hvis data er en liste, behandler vi den direkte som en liste af rækker.\n",
    "        if isinstance(data, list):\n",
    "            df = pd.DataFrame(data)\n",
    "        # Hvis data er en fil som ligger lokalt behandles den som en json fil hvorfor vi skal bruge read_json metoden.\n",
    "        elif isinstance(data, str) and os.path.isfile(data):\n",
    "            df = pd.read_json(data)\n",
    "        else:\n",
    "            raise ValueError(\"Data er ikke i et gyldigt format (forventet liste eller dictionary).\")\n",
    "\n",
    "        return df\n",
    "\n",
    "    except ValueError as err:\n",
    "        print(f\"Fejl ved konvertering af JSON til DataFrame: {err}\")\n",
    "        return None"
   ]
  },
  {
   "cell_type": "code",
   "execution_count": 281,
   "id": "4c8b6f58-4a97-4c5f-997b-443829d2df3f",
   "metadata": {},
   "outputs": [],
   "source": [
    "df_path = json_to_dataframe(\"/Users/youssefbadran/Documents/datamatiker/4. semester/BI/Mini Projects/MINI PROJECT 1 - DATA INGESTION AND WRANGLING/json-data.json\")\n",
    "df_from_fetch = json_to_dataframe(data)"
   ]
  },
  {
   "cell_type": "code",
   "execution_count": 283,
   "id": "84fe2467-13df-49a1-8709-e2b295e5e0b5",
   "metadata": {},
   "outputs": [
    {
     "name": "stdout",
     "output_type": "stream",
     "text": [
      "<class 'pandas.core.frame.DataFrame'>\n",
      "<class 'pandas.core.frame.DataFrame'>\n"
     ]
    }
   ],
   "source": []
  },
  {
   "cell_type": "code",
   "execution_count": null,
   "id": "47e276d7-cc96-42e4-b8ea-985cd4ec4a27",
   "metadata": {},
   "outputs": [],
   "source": []
  }
 ],
 "metadata": {
  "kernelspec": {
   "display_name": "Python 3 (ipykernel)",
   "language": "python",
   "name": "python3"
  },
  "language_info": {
   "codemirror_mode": {
    "name": "ipython",
    "version": 3
   },
   "file_extension": ".py",
   "mimetype": "text/x-python",
   "name": "python",
   "nbconvert_exporter": "python",
   "pygments_lexer": "ipython3",
   "version": "3.12.4"
  }
 },
 "nbformat": 4,
 "nbformat_minor": 5
}
